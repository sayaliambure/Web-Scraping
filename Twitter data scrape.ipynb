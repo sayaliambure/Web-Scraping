{
 "cells": [
  {
   "cell_type": "code",
   "execution_count": 2,
   "id": "a85cac07",
   "metadata": {},
   "outputs": [],
   "source": [
    "# !pip install git+https://github.com/tweepy/tweepy.git"
   ]
  },
  {
   "cell_type": "code",
   "execution_count": null,
   "id": "2b63e9dd",
   "metadata": {},
   "outputs": [],
   "source": []
  },
  {
   "cell_type": "code",
   "execution_count": 5,
   "id": "d3ec5f96",
   "metadata": {},
   "outputs": [],
   "source": [
    "# !pip install ntscraper"
   ]
  },
  {
   "cell_type": "code",
   "execution_count": 1,
   "id": "44bf3b8c",
   "metadata": {
    "scrolled": true
   },
   "outputs": [
    {
     "name": "stderr",
     "output_type": "stream",
     "text": [
      "Testing instances:  92%|██████████████████████████████████████████████████████████     | 71/77 [04:17<00:11,  1.85s/it]"
     ]
    },
    {
     "name": "stdout",
     "output_type": "stream",
     "text": [
      "30-Apr-24 17:07:34 - Certificate did not match expected hostname: nt.ggtyler.dev. Certificate: {'subject': ((('commonName', '4g.ggtyler.dev'),),), 'issuer': ((('countryName', 'US'),), (('organizationName', \"Let's Encrypt\"),), (('commonName', 'R3'),)), 'version': 3, 'serialNumber': '048FA3D68DCD65927A6C57C2A3C9C1F8CA14', 'notBefore': 'Mar 15 00:26:35 2024 GMT', 'notAfter': 'Jun 13 00:26:34 2024 GMT', 'subjectAltName': (('DNS', '4g.ggtyler.dev'),), 'OCSP': ('http://r3.o.lencr.org',), 'caIssuers': ('http://r3.i.lencr.org/',)}\n"
     ]
    },
    {
     "name": "stderr",
     "output_type": "stream",
     "text": [
      "Testing instances:  95%|███████████████████████████████████████████████████████████▋   | 73/77 [04:18<00:04,  1.23s/it]"
     ]
    },
    {
     "name": "stdout",
     "output_type": "stream",
     "text": [
      "30-Apr-24 17:07:35 - Certificate did not match expected hostname: nitter.uni-sonia.com. Certificate: {'subject': ((('commonName', '*.xserver.jp'),),), 'issuer': ((('countryName', 'JP'),), (('organizationName', 'CloudSecure Corporation'),), (('commonName', 'CloudSecure RSA Domain Validation Secure Server CA 2'),)), 'version': 3, 'serialNumber': 'ACA67AD2030638EE2DCE8E845B8299A6', 'notBefore': 'Mar 11 00:00:00 2024 GMT', 'notAfter': 'Apr 11 23:59:59 2025 GMT', 'subjectAltName': (('DNS', '*.xserver.jp'), ('DNS', 'xserver.jp')), 'OCSP': ('http://ocsp.sectigo.com',), 'caIssuers': ('http://crt.sectigo.com/CloudSecureRSADomainValidationSecureServerCA2.crt',)}\n"
     ]
    },
    {
     "name": "stderr",
     "output_type": "stream",
     "text": [
      "Testing instances:  99%|██████████████████████████████████████████████████████████████▏| 76/77 [04:24<00:01,  1.94s/it]"
     ]
    },
    {
     "name": "stdout",
     "output_type": "stream",
     "text": [
      "30-Apr-24 17:07:42 - Certificate did not match expected hostname: nitter.tinfoil-hat.net. Certificate: {'subject': ((('commonName', 'jelly.tinfoil-hat.de'),),), 'issuer': ((('countryName', 'US'),), (('organizationName', \"Let's Encrypt\"),), (('commonName', 'R3'),)), 'version': 3, 'serialNumber': '03F338CE809E122DC2875C50A27A840DD7A4', 'notBefore': 'Mar 15 22:40:16 2024 GMT', 'notAfter': 'Jun 13 22:40:15 2024 GMT', 'subjectAltName': (('DNS', 'jelly.tinfoil-hat.de'),), 'OCSP': ('http://r3.o.lencr.org',), 'caIssuers': ('http://r3.i.lencr.org/',)}\n"
     ]
    },
    {
     "name": "stderr",
     "output_type": "stream",
     "text": [
      "Testing instances: 100%|███████████████████████████████████████████████████████████████| 77/77 [04:26<00:00,  3.46s/it]"
     ]
    },
    {
     "name": "stdout",
     "output_type": "stream",
     "text": [
      "30-Apr-24 17:07:42 - No instance specified, using random instance https://nitter.privacydev.net\n"
     ]
    },
    {
     "name": "stderr",
     "output_type": "stream",
     "text": [
      "\n"
     ]
    },
    {
     "name": "stdout",
     "output_type": "stream",
     "text": [
      "30-Apr-24 17:07:49 - Current stats for elonmusk: 10 tweets, 0 threads...\n"
     ]
    }
   ],
   "source": [
    "from ntscraper import Nitter\n",
    "scraper = Nitter(log_level = 1,skip_instance_check= False)"
   ]
  },
  {
   "cell_type": "code",
   "execution_count": null,
   "id": "c11a3eee",
   "metadata": {},
   "outputs": [],
   "source": [
    "# Parameters of .get_tweets => \n",
    "# mode = user (here user is username- unique for everyone)\n",
    "# mode = user, hashtags\n",
    "# number= no. of tweets\n",
    "# since= start date \n",
    "# until= end date"
   ]
  },
  {
   "cell_type": "code",
   "execution_count": 32,
   "id": "bbdd69de",
   "metadata": {},
   "outputs": [
    {
     "name": "stdout",
     "output_type": "stream",
     "text": [
      "30-Apr-24 17:26:26 - No instance specified, using random instance https://nitter.esmailelbob.xyz\n",
      "30-Apr-24 17:26:33 - Current stats for hubermanlab: 10 tweets, 0 threads...\n"
     ]
    }
   ],
   "source": [
    "tweets = scraper.get_tweets(\"hubermanlab\",mode=\"user\",number=10)"
   ]
  },
  {
   "cell_type": "code",
   "execution_count": 33,
   "id": "33337283",
   "metadata": {
    "scrolled": true
   },
   "outputs": [
    {
     "name": "stdout",
     "output_type": "stream",
     "text": [
      "{'threads': [],\n",
      " 'tweets': [{'date': 'Apr 29, 2024 · 3:14 PM UTC',\n",
      "             'external-link': 'http://www.hubermanlab.com/episode/protocols-to-strengthen-pain-proof-your-back',\n",
      "             'gifs': [],\n",
      "             'is-pinned': True,\n",
      "             'is-retweet': False,\n",
      "             'link': 'https://twitter.com/hubermanlab/status/1784964422286618906#m',\n",
      "             'pictures': [],\n",
      "             'quoted-post': {},\n",
      "             'replying-to': [],\n",
      "             'stats': {'comments': 46,\n",
      "                       'likes': 1125,\n",
      "                       'quotes': 28,\n",
      "                       'retweets': 125},\n",
      "             'text': 'New Huberman Lab podcast out now: PROTOCOLS TO '\n",
      "                     'STRENGTHEN & PAIN PROOF YOUR BACK •Easy Exercises For a '\n",
      "                     'Strong Stable Back •3 Simple Methods That Relieve Pain '\n",
      "                     '•Reverse Sciatica •Posture, Breathing, Feet, Pelvic '\n",
      "                     'Position  •Biology, Protocols & Tutorial  '\n",
      "                     'hubermanlab.com/episode/prot…',\n",
      "             'user': {'avatar': 'https://pbs.twimg.com/profile_images/1339713932085346306/jDTi4HKH_bigger.jpg',\n",
      "                      'name': 'Andrew D. Huberman, Ph.D.',\n",
      "                      'profile_id': '1339713932085346306',\n",
      "                      'username': '@hubermanlab'},\n",
      "             'videos': []},\n",
      "            {'date': 'Apr 30, 2024 · 2:54 AM UTC',\n",
      "             'external-link': '',\n",
      "             'gifs': [],\n",
      "             'is-pinned': False,\n",
      "             'is-retweet': True,\n",
      "             'link': 'https://twitter.com/gwld/status/1785140577165619596#m',\n",
      "             'pictures': [],\n",
      "             'quoted-post': {},\n",
      "             'replying-to': [],\n",
      "             'stats': {'comments': 8, 'likes': 108, 'quotes': 0, 'retweets': 8},\n",
      "             'text': '\"Don\\'t make yourself special in ways that hurt you.\" — '\n",
      "                     'Dr. Paul Conti  https://piped.video/yOJvm_ri_hk',\n",
      "             'user': {'avatar': 'https://pbs.twimg.com/profile_images/1337096607334973440/xYzYGyMX_bigger.jpg',\n",
      "                      'name': 'Adam Greenwald',\n",
      "                      'profile_id': '1337096607334973440',\n",
      "                      'username': '@gwld'},\n",
      "             'videos': []},\n",
      "            {'date': 'Apr 29, 2024 · 7:20 PM UTC',\n",
      "             'external-link': '',\n",
      "             'gifs': [],\n",
      "             'is-pinned': False,\n",
      "             'is-retweet': False,\n",
      "             'link': 'https://twitter.com/hubermanlab/status/1785026375696703892#m',\n",
      "             'pictures': [],\n",
      "             'quoted-post': {},\n",
      "             'replying-to': [],\n",
      "             'stats': {'comments': 2, 'likes': 50, 'quotes': 0, 'retweets': 1},\n",
      "             'text': 'Note: no paywalll',\n",
      "             'user': {'avatar': 'https://pbs.twimg.com/profile_images/1339713932085346306/jDTi4HKH_bigger.jpg',\n",
      "                      'name': 'Andrew D. Huberman, Ph.D.',\n",
      "                      'profile_id': '1339713932085346306',\n",
      "                      'username': '@hubermanlab'},\n",
      "             'videos': []},\n",
      "            {'date': 'Apr 29, 2024 · 7:19 PM UTC',\n",
      "             'external-link': '',\n",
      "             'gifs': [],\n",
      "             'is-pinned': False,\n",
      "             'is-retweet': False,\n",
      "             'link': 'https://twitter.com/hubermanlab/status/1785026190866309187#m',\n",
      "             'pictures': [],\n",
      "             'quoted-post': {},\n",
      "             'replying-to': [],\n",
      "             'stats': {'comments': 16,\n",
      "                       'likes': 342,\n",
      "                       'quotes': 2,\n",
      "                       'retweets': 44},\n",
      "             'text': 'A very interesting read in @NatGeo by @darylaustinUT '\n",
      "                     'that I had the pleasure of chiming in on about '\n",
      "                     'adrenaline, “stress”, drive and the hidden capacity to '\n",
      "                     'exert more than we ever thought possible… once the '\n",
      "                     'correct biological switches are flipped. '\n",
      "                     'https://www.nationalgeographic.com/science/article/extreme-strength-fight-flight-stress-muscle-power',\n",
      "             'user': {'avatar': 'https://pbs.twimg.com/profile_images/1339713932085346306/jDTi4HKH_bigger.jpg',\n",
      "                      'name': 'Andrew D. Huberman, Ph.D.',\n",
      "                      'profile_id': '1339713932085346306',\n",
      "                      'username': '@hubermanlab'},\n",
      "             'videos': []},\n",
      "            {'date': 'Apr 29, 2024 · 5:06 PM UTC',\n",
      "             'external-link': '',\n",
      "             'gifs': [],\n",
      "             'is-pinned': False,\n",
      "             'is-retweet': False,\n",
      "             'link': 'https://twitter.com/hubermanlab/status/1784992644210495514#m',\n",
      "             'pictures': [],\n",
      "             'quoted-post': {},\n",
      "             'replying-to': [],\n",
      "             'stats': {'comments': 91,\n",
      "                       'likes': 1086,\n",
      "                       'quotes': 8,\n",
      "                       'retweets': 40},\n",
      "             'text': 'This is interesting re skin, sun, sunscreen and the '\n",
      "                     'environment. Note: despite claims to the contrary, I '\n",
      "                     'believe in and wear sunscreen or use a physical barrier '\n",
      "                     'to avoid burn, but some types likely should be avoided. '\n",
      "                     'More soon on HLP episode about skin health, '\n",
      "                     'https://woods.stanford.edu/news/safer-sunscreen-stanford-researchers-explore-novel-approach-sustainable-sun-protection?utm_source=feedotter',\n",
      "             'user': {'avatar': 'https://pbs.twimg.com/profile_images/1339713932085346306/jDTi4HKH_bigger.jpg',\n",
      "                      'name': 'Andrew D. Huberman, Ph.D.',\n",
      "                      'profile_id': '1339713932085346306',\n",
      "                      'username': '@hubermanlab'},\n",
      "             'videos': []},\n",
      "            {'date': 'Apr 29, 2024 · 3:22 PM UTC',\n",
      "             'external-link': '',\n",
      "             'gifs': [],\n",
      "             'is-pinned': False,\n",
      "             'is-retweet': False,\n",
      "             'link': 'https://twitter.com/hubermanlab/status/1784966553215353105#m',\n",
      "             'pictures': [],\n",
      "             'quoted-post': {},\n",
      "             'replying-to': [],\n",
      "             'stats': {'comments': 8,\n",
      "                       'likes': 284,\n",
      "                       'quotes': 2,\n",
      "                       'retweets': 26},\n",
      "             'text': 'And the demos of some of the key movements including '\n",
      "                     'McGill’s Big 3 and more are found here (plus additional '\n",
      "                     'links in the show note captions to the main episode). '\n",
      "                     'https://piped.video/f7HLP96HVNM?feature=shared',\n",
      "             'user': {'avatar': 'https://pbs.twimg.com/profile_images/1339713932085346306/jDTi4HKH_bigger.jpg',\n",
      "                      'name': 'Andrew D. Huberman, Ph.D.',\n",
      "                      'profile_id': '1339713932085346306',\n",
      "                      'username': '@hubermanlab'},\n",
      "             'videos': []},\n",
      "            {'date': 'Apr 28, 2024 · 1:47 PM UTC',\n",
      "             'external-link': 'http://open.spotify.com/episode/0OzETTRh8ETwFgdKEb2lAD?si=_sp-pCTgQZ2_vM39-wuL0A',\n",
      "             'gifs': [],\n",
      "             'is-pinned': False,\n",
      "             'is-retweet': False,\n",
      "             'link': 'https://twitter.com/hubermanlab/status/1784580113725551011#m',\n",
      "             'pictures': [],\n",
      "             'quoted-post': {},\n",
      "             'replying-to': [],\n",
      "             'stats': {'comments': 19,\n",
      "                       'likes': 456,\n",
      "                       'quotes': 1,\n",
      "                       'retweets': 57},\n",
      "             'text': 'Sleep timing and increasing REM sleep to enhance '\n",
      "                     'learning and creativity. The science and the protocols, '\n",
      "                     'with @sleepdiplomat on the Huberman Lab podcast. '\n",
      "                     'open.spotify.com/episode/0Oz…',\n",
      "             'user': {'avatar': 'https://pbs.twimg.com/profile_images/1339713932085346306/jDTi4HKH_bigger.jpg',\n",
      "                      'name': 'Andrew D. Huberman, Ph.D.',\n",
      "                      'profile_id': '1339713932085346306',\n",
      "                      'username': '@hubermanlab'},\n",
      "             'videos': []},\n",
      "            {'date': 'Apr 28, 2024 · 11:14 AM UTC',\n",
      "             'external-link': '',\n",
      "             'gifs': [],\n",
      "             'is-pinned': False,\n",
      "             'is-retweet': False,\n",
      "             'link': 'https://twitter.com/hubermanlab/status/1784541574208082396#m',\n",
      "             'pictures': [],\n",
      "             'quoted-post': {},\n",
      "             'replying-to': [],\n",
      "             'stats': {'comments': 11,\n",
      "                       'likes': 218,\n",
      "                       'quotes': 0,\n",
      "                       'retweets': 10},\n",
      "             'text': 'I address: when it’s overcast, glasses and contacts, why '\n",
      "                     'most artificial lights don’t suffice, duration, windows '\n",
      "                     'etc. this one was recorded a few years back but is among '\n",
      "                     'our most viewed clips, segments and frequently asked '\n",
      "                     'questions.',\n",
      "             'user': {'avatar': 'https://pbs.twimg.com/profile_images/1339713932085346306/jDTi4HKH_bigger.jpg',\n",
      "                      'name': 'Andrew D. Huberman, Ph.D.',\n",
      "                      'profile_id': '1339713932085346306',\n",
      "                      'username': '@hubermanlab'},\n",
      "             'videos': []},\n",
      "            {'date': 'Apr 28, 2024 · 11:10 AM UTC',\n",
      "             'external-link': '',\n",
      "             'gifs': [],\n",
      "             'is-pinned': False,\n",
      "             'is-retweet': False,\n",
      "             'link': 'https://twitter.com/hubermanlab/status/1784540597371416714#m',\n",
      "             'pictures': [],\n",
      "             'quoted-post': {},\n",
      "             'replying-to': [],\n",
      "             'stats': {'comments': 58,\n",
      "                       'likes': 1824,\n",
      "                       'quotes': 19,\n",
      "                       'retweets': 232},\n",
      "             'text': 'Morning Sunlight Viewing for Increasing Daytime Mood, '\n",
      "                     'Focus & Alertness & Improving Sleep at Night. (w/the '\n",
      "                     'most commonly asked questions addressed). Huberman Lab '\n",
      "                     'podcast clip:',\n",
      "             'user': {'avatar': 'https://pbs.twimg.com/profile_images/1339713932085346306/jDTi4HKH_bigger.jpg',\n",
      "                      'name': 'Andrew D. Huberman, Ph.D.',\n",
      "                      'profile_id': '1339713932085346306',\n",
      "                      'username': '@hubermanlab'},\n",
      "             'videos': ['https://video.twimg.com/amplify_video/1784540009149657088/pl/8lRT74w2OT6jdxD5.m3u8?tag=14&container=cmaf']},\n",
      "            {'date': 'Apr 27, 2024 · 10:17 PM UTC',\n",
      "             'external-link': '',\n",
      "             'gifs': [],\n",
      "             'is-pinned': False,\n",
      "             'is-retweet': False,\n",
      "             'link': 'https://twitter.com/hubermanlab/status/1784346102877024366#m',\n",
      "             'pictures': [],\n",
      "             'quoted-post': {'date': 'Apr 27, 2024 · 8:32 PM UTC',\n",
      "                             'gifs': [],\n",
      "                             'link': 'https://twitter.com/CaseyMeansMD/status/1784319607144370639#m',\n",
      "                             'pictures': ['https://pbs.twimg.com/media/GMMtNGXb0AArkUc.jpg'],\n",
      "                             'text': 'I wrote Good Energy because the '\n",
      "                                     'metabolic health crisis is the biggest '\n",
      "                                     'threat we face. And the answers are '\n",
      "                                     'simpler than we are told. The tools to '\n",
      "                                     'feeling better today are the SAME as how '\n",
      "                                     'to prevent disease tomorrow. The biggest '\n",
      "                                     'lie in healthcare is that type 2 '\n",
      "                                     'diabetes, cancer, heart disease, '\n",
      "                                     'dementia, Alzheimer’s, depression, '\n",
      "                                     'arthritis, infertility and more are '\n",
      "                                     'totally different diseases requiring '\n",
      "                                     'separate doctors and pills for life. '\n",
      "                                     'This siloing of chronic disease has been '\n",
      "                                     'the costliest mistake in the history of '\n",
      "                                     'modern medicine. The chronic diseases '\n",
      "                                     'which account for 90% of health costs '\n",
      "                                     'and 9 out of 10 deaths result from the '\n",
      "                                     'SAME THING - dysfunction in our body’s '\n",
      "                                     'fundamental ability to produce energy, '\n",
      "                                     'which is caused by simple environmental '\n",
      "                                     'features that have changed in just a '\n",
      "                                     'century. And now it’s even affecting '\n",
      "                                     'children because we aren’t waking up '\n",
      "                                     'fast enough. We need a full revolution '\n",
      "                                     'in seeing chronic disease is connected - '\n",
      "                                     'and that revolution is happening from '\n",
      "                                     'the bottoms up. Thank you @hubermanlab '\n",
      "                                     'for summoning the important '\n",
      "                                     'conversations around health empowerment '\n",
      "                                     '- and diving into the topic of metabolic '\n",
      "                                     'health deeper than anyone. I so admire '\n",
      "                                     'and honor his unparalleled commitment to '\n",
      "                                     'learning, curiosity, and sharing '\n",
      "                                     'critical empowering information for free '\n",
      "                                     'with the world.',\n",
      "                             'user': {'avatar': 'https://pbs.twimg.com/profile_images/1570527639726850048/7b4kgBet_mini.jpg',\n",
      "                                      'name': 'Casey Means, MD',\n",
      "                                      'profile_id': '1570527639726850048',\n",
      "                                      'username': '@CaseyMeansMD'},\n",
      "                             'videos': []},\n",
      "             'replying-to': [],\n",
      "             'stats': {'comments': 42,\n",
      "                       'likes': 1316,\n",
      "                       'quotes': 8,\n",
      "                       'retweets': 97},\n",
      "             'text': 'Delighted to have hosted @CaseyMeansMD for an upcoming '\n",
      "                     'HLP episode on metabolic health. She shares the highest '\n",
      "                     'impact science &  practical tools for physical health. '\n",
      "                     'Her new book Good Energy is a superb must-read. It’s '\n",
      "                     'easily in my top 3 actionable for-everyone health books.',\n",
      "             'user': {'avatar': 'https://pbs.twimg.com/profile_images/1339713932085346306/jDTi4HKH_bigger.jpg',\n",
      "                      'name': 'Andrew D. Huberman, Ph.D.',\n",
      "                      'profile_id': '1339713932085346306',\n",
      "                      'username': '@hubermanlab'},\n",
      "             'videos': []}]}\n"
     ]
    }
   ],
   "source": [
    "from pprint import pprint\n",
    "pprint(tweets)"
   ]
  },
  {
   "cell_type": "code",
   "execution_count": 34,
   "id": "979b9677",
   "metadata": {},
   "outputs": [
    {
     "data": {
      "text/plain": [
       "dict_keys(['tweets', 'threads'])"
      ]
     },
     "execution_count": 34,
     "metadata": {},
     "output_type": "execute_result"
    }
   ],
   "source": [
    "tweets.keys()"
   ]
  },
  {
   "cell_type": "code",
   "execution_count": 35,
   "id": "6f3bdb03",
   "metadata": {
    "collapsed": true
   },
   "outputs": [
    {
     "data": {
      "text/plain": [
       "{'link': 'https://twitter.com/hubermanlab/status/1784964422286618906#m',\n",
       " 'text': 'New Huberman Lab podcast out now: PROTOCOLS TO STRENGTHEN & PAIN PROOF YOUR BACK •Easy Exercises For a Strong Stable Back •3 Simple Methods That Relieve Pain •Reverse Sciatica •Posture, Breathing, Feet, Pelvic Position  •Biology, Protocols & Tutorial  hubermanlab.com/episode/prot…',\n",
       " 'user': {'name': 'Andrew D. Huberman, Ph.D.',\n",
       "  'username': '@hubermanlab',\n",
       "  'profile_id': '1339713932085346306',\n",
       "  'avatar': 'https://pbs.twimg.com/profile_images/1339713932085346306/jDTi4HKH_bigger.jpg'},\n",
       " 'date': 'Apr 29, 2024 · 3:14 PM UTC',\n",
       " 'is-retweet': False,\n",
       " 'is-pinned': True,\n",
       " 'external-link': 'http://www.hubermanlab.com/episode/protocols-to-strengthen-pain-proof-your-back',\n",
       " 'replying-to': [],\n",
       " 'quoted-post': {},\n",
       " 'stats': {'comments': 46, 'retweets': 125, 'quotes': 28, 'likes': 1125},\n",
       " 'pictures': [],\n",
       " 'videos': [],\n",
       " 'gifs': []}"
      ]
     },
     "execution_count": 35,
     "metadata": {},
     "output_type": "execute_result"
    }
   ],
   "source": [
    "tweets['tweets'][0]"
   ]
  },
  {
   "cell_type": "code",
   "execution_count": 36,
   "id": "d489e357",
   "metadata": {},
   "outputs": [
    {
     "name": "stdout",
     "output_type": "stream",
     "text": [
      "30-Apr-24 17:26:34 - No instance specified, using random instance https://nitter.esmailelbob.xyz\n"
     ]
    }
   ],
   "source": [
    "# gets profile information\n",
    "# This does not work for really famous accounts, like elon musk\n",
    "huberman_info = scraper.get_profile_info(username=\"hubermanlab\")"
   ]
  },
  {
   "cell_type": "code",
   "execution_count": 37,
   "id": "bfe7183a",
   "metadata": {
    "collapsed": true
   },
   "outputs": [
    {
     "name": "stdout",
     "output_type": "stream",
     "text": [
      "{'image': 'https://pbs.twimg.com/profile_images/1339713932085346306/jDTi4HKH_400x400.jpg', 'name': 'Andrew D. Huberman, Ph.D.', 'username': '@hubermanlab', 'id': '4416456732', 'bio': 'Professor of Neurobiology & Ophthalmology at Stanford Medicine • Host of the Huberman Lab podcast • Focused on science & health research & public education', 'location': 'Stanford, CA', 'website': 'https://hubermanlab.com', 'joined': '3:52 AM - 1 Dec 2015', 'stats': {'tweets': 8705, 'following': 1247, 'followers': 1310411, 'likes': 32524, 'media': 0}}\n"
     ]
    }
   ],
   "source": [
    "print(huberman_info)"
   ]
  },
  {
   "cell_type": "code",
   "execution_count": 38,
   "id": "d0337463",
   "metadata": {},
   "outputs": [],
   "source": [
    "# make dataset of the tweet info\n",
    "data = {\n",
    "    'link':[],\n",
    "    'text':[],\n",
    "    'user':[],\n",
    "    'likes':[],\n",
    "    'quotes':[],\n",
    "    'retweets':[],\n",
    "    'comments':[]\n",
    "}\n",
    "\n",
    "for tweet in tweets['tweets']:\n",
    "    data['link'].append(tweet['link'])\n",
    "    data['text'].append(tweet['text'])\n",
    "    data['user'].append(tweet['user']['name'])  #to get inside nested dictionary\n",
    "    data['likes'].append(tweet['stats']['likes'])\n",
    "    data['quotes'].append(tweet['stats']['quotes'])    \n",
    "    data['retweets'].append(tweet['stats']['retweets'])    \n",
    "    data['comments'].append(tweet['stats']['comments'])    "
   ]
  },
  {
   "cell_type": "code",
   "execution_count": 39,
   "id": "17f9b33b",
   "metadata": {},
   "outputs": [
    {
     "data": {
      "text/plain": [
       "{'link': ['https://twitter.com/hubermanlab/status/1784964422286618906#m',\n",
       "  'https://twitter.com/gwld/status/1785140577165619596#m',\n",
       "  'https://twitter.com/hubermanlab/status/1785026375696703892#m',\n",
       "  'https://twitter.com/hubermanlab/status/1785026190866309187#m',\n",
       "  'https://twitter.com/hubermanlab/status/1784992644210495514#m',\n",
       "  'https://twitter.com/hubermanlab/status/1784966553215353105#m',\n",
       "  'https://twitter.com/hubermanlab/status/1784580113725551011#m',\n",
       "  'https://twitter.com/hubermanlab/status/1784541574208082396#m',\n",
       "  'https://twitter.com/hubermanlab/status/1784540597371416714#m',\n",
       "  'https://twitter.com/hubermanlab/status/1784346102877024366#m'],\n",
       " 'text': ['New Huberman Lab podcast out now: PROTOCOLS TO STRENGTHEN & PAIN PROOF YOUR BACK •Easy Exercises For a Strong Stable Back •3 Simple Methods That Relieve Pain •Reverse Sciatica •Posture, Breathing, Feet, Pelvic Position  •Biology, Protocols & Tutorial  hubermanlab.com/episode/prot…',\n",
       "  '\"Don\\'t make yourself special in ways that hurt you.\" — Dr. Paul Conti  https://piped.video/yOJvm_ri_hk',\n",
       "  'Note: no paywalll',\n",
       "  'A very interesting read in @NatGeo by @darylaustinUT that I had the pleasure of chiming in on about adrenaline, “stress”, drive and the hidden capacity to exert more than we ever thought possible… once the correct biological switches are flipped. https://www.nationalgeographic.com/science/article/extreme-strength-fight-flight-stress-muscle-power',\n",
       "  'This is interesting re skin, sun, sunscreen and the environment. Note: despite claims to the contrary, I believe in and wear sunscreen or use a physical barrier to avoid burn, but some types likely should be avoided. More soon on HLP episode about skin health, https://woods.stanford.edu/news/safer-sunscreen-stanford-researchers-explore-novel-approach-sustainable-sun-protection?utm_source=feedotter',\n",
       "  'And the demos of some of the key movements including McGill’s Big 3 and more are found here (plus additional links in the show note captions to the main episode). https://piped.video/f7HLP96HVNM?feature=shared',\n",
       "  'Sleep timing and increasing REM sleep to enhance learning and creativity. The science and the protocols, with @sleepdiplomat on the Huberman Lab podcast. open.spotify.com/episode/0Oz…',\n",
       "  'I address: when it’s overcast, glasses and contacts, why most artificial lights don’t suffice, duration, windows etc. this one was recorded a few years back but is among our most viewed clips, segments and frequently asked questions.',\n",
       "  'Morning Sunlight Viewing for Increasing Daytime Mood, Focus & Alertness & Improving Sleep at Night. (w/the most commonly asked questions addressed). Huberman Lab podcast clip:',\n",
       "  'Delighted to have hosted @CaseyMeansMD for an upcoming HLP episode on metabolic health. She shares the highest impact science &  practical tools for physical health. Her new book Good Energy is a superb must-read. It’s easily in my top 3 actionable for-everyone health books.'],\n",
       " 'user': ['Andrew D. Huberman, Ph.D.',\n",
       "  'Adam Greenwald',\n",
       "  'Andrew D. Huberman, Ph.D.',\n",
       "  'Andrew D. Huberman, Ph.D.',\n",
       "  'Andrew D. Huberman, Ph.D.',\n",
       "  'Andrew D. Huberman, Ph.D.',\n",
       "  'Andrew D. Huberman, Ph.D.',\n",
       "  'Andrew D. Huberman, Ph.D.',\n",
       "  'Andrew D. Huberman, Ph.D.',\n",
       "  'Andrew D. Huberman, Ph.D.'],\n",
       " 'likes': [1125, 108, 50, 342, 1086, 284, 456, 218, 1824, 1316],\n",
       " 'quotes': [28, 0, 0, 2, 8, 2, 1, 0, 19, 8],\n",
       " 'retweets': [125, 8, 1, 44, 40, 26, 57, 10, 232, 97],\n",
       " 'comments': [46, 8, 2, 16, 91, 8, 19, 11, 58, 42]}"
      ]
     },
     "execution_count": 39,
     "metadata": {},
     "output_type": "execute_result"
    }
   ],
   "source": [
    "data"
   ]
  },
  {
   "cell_type": "code",
   "execution_count": 40,
   "id": "658ec70f",
   "metadata": {
    "collapsed": true
   },
   "outputs": [
    {
     "name": "stdout",
     "output_type": "stream",
     "text": [
      "30-Apr-24 17:32:50 - NumExpr defaulting to 8 threads.\n"
     ]
    },
    {
     "data": {
      "application/javascript": [
       "\n",
       "        if (window._pyforest_update_imports_cell) { window._pyforest_update_imports_cell('import pandas as pd'); }\n",
       "    "
      ],
      "text/plain": [
       "<IPython.core.display.Javascript object>"
      ]
     },
     "metadata": {},
     "output_type": "display_data"
    },
    {
     "data": {
      "text/html": [
       "<div>\n",
       "<style scoped>\n",
       "    .dataframe tbody tr th:only-of-type {\n",
       "        vertical-align: middle;\n",
       "    }\n",
       "\n",
       "    .dataframe tbody tr th {\n",
       "        vertical-align: top;\n",
       "    }\n",
       "\n",
       "    .dataframe thead th {\n",
       "        text-align: right;\n",
       "    }\n",
       "</style>\n",
       "<table border=\"1\" class=\"dataframe\">\n",
       "  <thead>\n",
       "    <tr style=\"text-align: right;\">\n",
       "      <th></th>\n",
       "      <th>link</th>\n",
       "      <th>text</th>\n",
       "      <th>user</th>\n",
       "      <th>likes</th>\n",
       "      <th>quotes</th>\n",
       "      <th>retweets</th>\n",
       "      <th>comments</th>\n",
       "    </tr>\n",
       "  </thead>\n",
       "  <tbody>\n",
       "    <tr>\n",
       "      <th>0</th>\n",
       "      <td>https://twitter.com/hubermanlab/status/1784964...</td>\n",
       "      <td>New Huberman Lab podcast out now: PROTOCOLS TO...</td>\n",
       "      <td>Andrew D. Huberman, Ph.D.</td>\n",
       "      <td>1125</td>\n",
       "      <td>28</td>\n",
       "      <td>125</td>\n",
       "      <td>46</td>\n",
       "    </tr>\n",
       "    <tr>\n",
       "      <th>1</th>\n",
       "      <td>https://twitter.com/gwld/status/17851405771656...</td>\n",
       "      <td>\"Don't make yourself special in ways that hurt...</td>\n",
       "      <td>Adam Greenwald</td>\n",
       "      <td>108</td>\n",
       "      <td>0</td>\n",
       "      <td>8</td>\n",
       "      <td>8</td>\n",
       "    </tr>\n",
       "    <tr>\n",
       "      <th>2</th>\n",
       "      <td>https://twitter.com/hubermanlab/status/1785026...</td>\n",
       "      <td>Note: no paywalll</td>\n",
       "      <td>Andrew D. Huberman, Ph.D.</td>\n",
       "      <td>50</td>\n",
       "      <td>0</td>\n",
       "      <td>1</td>\n",
       "      <td>2</td>\n",
       "    </tr>\n",
       "    <tr>\n",
       "      <th>3</th>\n",
       "      <td>https://twitter.com/hubermanlab/status/1785026...</td>\n",
       "      <td>A very interesting read in @NatGeo by @darylau...</td>\n",
       "      <td>Andrew D. Huberman, Ph.D.</td>\n",
       "      <td>342</td>\n",
       "      <td>2</td>\n",
       "      <td>44</td>\n",
       "      <td>16</td>\n",
       "    </tr>\n",
       "    <tr>\n",
       "      <th>4</th>\n",
       "      <td>https://twitter.com/hubermanlab/status/1784992...</td>\n",
       "      <td>This is interesting re skin, sun, sunscreen an...</td>\n",
       "      <td>Andrew D. Huberman, Ph.D.</td>\n",
       "      <td>1086</td>\n",
       "      <td>8</td>\n",
       "      <td>40</td>\n",
       "      <td>91</td>\n",
       "    </tr>\n",
       "  </tbody>\n",
       "</table>\n",
       "</div>"
      ],
      "text/plain": [
       "                                                link  \\\n",
       "0  https://twitter.com/hubermanlab/status/1784964...   \n",
       "1  https://twitter.com/gwld/status/17851405771656...   \n",
       "2  https://twitter.com/hubermanlab/status/1785026...   \n",
       "3  https://twitter.com/hubermanlab/status/1785026...   \n",
       "4  https://twitter.com/hubermanlab/status/1784992...   \n",
       "\n",
       "                                                text  \\\n",
       "0  New Huberman Lab podcast out now: PROTOCOLS TO...   \n",
       "1  \"Don't make yourself special in ways that hurt...   \n",
       "2                                  Note: no paywalll   \n",
       "3  A very interesting read in @NatGeo by @darylau...   \n",
       "4  This is interesting re skin, sun, sunscreen an...   \n",
       "\n",
       "                        user  likes  quotes  retweets  comments  \n",
       "0  Andrew D. Huberman, Ph.D.   1125      28       125        46  \n",
       "1             Adam Greenwald    108       0         8         8  \n",
       "2  Andrew D. Huberman, Ph.D.     50       0         1         2  \n",
       "3  Andrew D. Huberman, Ph.D.    342       2        44        16  \n",
       "4  Andrew D. Huberman, Ph.D.   1086       8        40        91  "
      ]
     },
     "execution_count": 40,
     "metadata": {},
     "output_type": "execute_result"
    }
   ],
   "source": [
    "# convert into csv file\n",
    "df = pd.DataFrame(data)\n",
    "df.head()"
   ]
  },
  {
   "cell_type": "code",
   "execution_count": 42,
   "id": "eb6b578d",
   "metadata": {},
   "outputs": [],
   "source": [
    "df.to_csv(\"HubermanTweets data.csv\")"
   ]
  },
  {
   "cell_type": "code",
   "execution_count": 43,
   "id": "28bc7b0f",
   "metadata": {},
   "outputs": [],
   "source": [
    "# Function to make dataset(csv file) of tweets\n",
    "# Specify the username and number of tweets\n",
    "\n",
    "import pandas as pd\n",
    "def create_tweet_dataset(username, no_of_tweets):\n",
    "    scraper = Nitter()    \n",
    "    tweets = scraper.get_tweets(username,mode=\"user\",number=no_of_tweets)    \n",
    "    data = {\n",
    "        'link':[],\n",
    "        'text':[],\n",
    "        'user':[],\n",
    "        'likes':[],\n",
    "        'quotes':[],\n",
    "        'retweets':[],\n",
    "        'comments':[]\n",
    "    }\n",
    "\n",
    "    for tweet in tweets['tweets']:\n",
    "        data['link'].append(tweet['link'])\n",
    "        data['text'].append(tweet['text'])\n",
    "        data['user'].append(tweet['user']['name'])  #to get inside nested dictionary\n",
    "        data['likes'].append(tweet['stats']['likes'])\n",
    "        data['quotes'].append(tweet['stats']['quotes'])    \n",
    "        data['retweets'].append(tweet['stats']['retweets'])    \n",
    "        data['comments'].append(tweet['stats']['comments'])  \n",
    "        \n",
    "    df = pd.DataFrame(data)\n",
    "    df.to_csv(username + 'Tweet_data.csv')"
   ]
  },
  {
   "cell_type": "code",
   "execution_count": 45,
   "id": "7070206f",
   "metadata": {},
   "outputs": [
    {
     "name": "stderr",
     "output_type": "stream",
     "text": [
      "Testing instances:  92%|██████████████████████████████████████████████████████████     | 71/77 [03:36<00:10,  1.73s/it]"
     ]
    },
    {
     "name": "stdout",
     "output_type": "stream",
     "text": [
      "30-Apr-24 17:50:59 - Certificate did not match expected hostname: nt.ggtyler.dev. Certificate: {'subject': ((('commonName', '4g.ggtyler.dev'),),), 'issuer': ((('countryName', 'US'),), (('organizationName', \"Let's Encrypt\"),), (('commonName', 'R3'),)), 'version': 3, 'serialNumber': '048FA3D68DCD65927A6C57C2A3C9C1F8CA14', 'notBefore': 'Mar 15 00:26:35 2024 GMT', 'notAfter': 'Jun 13 00:26:34 2024 GMT', 'subjectAltName': (('DNS', '4g.ggtyler.dev'),), 'OCSP': ('http://r3.o.lencr.org',), 'caIssuers': ('http://r3.i.lencr.org/',)}\n"
     ]
    },
    {
     "name": "stderr",
     "output_type": "stream",
     "text": [
      "\r",
      "Testing instances:  94%|██████████████████████████████████████████████████████████▉    | 72/77 [03:37<00:07,  1.51s/it]"
     ]
    },
    {
     "name": "stdout",
     "output_type": "stream",
     "text": [
      "30-Apr-24 17:51:00 - Certificate did not match expected hostname: nitter.uni-sonia.com. Certificate: {'subject': ((('commonName', '*.xserver.jp'),),), 'issuer': ((('countryName', 'JP'),), (('organizationName', 'CloudSecure Corporation'),), (('commonName', 'CloudSecure RSA Domain Validation Secure Server CA 2'),)), 'version': 3, 'serialNumber': 'ACA67AD2030638EE2DCE8E845B8299A6', 'notBefore': 'Mar 11 00:00:00 2024 GMT', 'notAfter': 'Apr 11 23:59:59 2025 GMT', 'subjectAltName': (('DNS', '*.xserver.jp'), ('DNS', 'xserver.jp')), 'OCSP': ('http://ocsp.sectigo.com',), 'caIssuers': ('http://crt.sectigo.com/CloudSecureRSADomainValidationSecureServerCA2.crt',)}\n"
     ]
    },
    {
     "name": "stderr",
     "output_type": "stream",
     "text": [
      "Testing instances:  99%|██████████████████████████████████████████████████████████████▏| 76/77 [03:44<00:02,  2.06s/it]"
     ]
    },
    {
     "name": "stdout",
     "output_type": "stream",
     "text": [
      "30-Apr-24 17:51:07 - Certificate did not match expected hostname: nitter.tinfoil-hat.net. Certificate: {'subject': ((('commonName', 'jelly.tinfoil-hat.de'),),), 'issuer': ((('countryName', 'US'),), (('organizationName', \"Let's Encrypt\"),), (('commonName', 'R3'),)), 'version': 3, 'serialNumber': '03F338CE809E122DC2875C50A27A840DD7A4', 'notBefore': 'Mar 15 22:40:16 2024 GMT', 'notAfter': 'Jun 13 22:40:15 2024 GMT', 'subjectAltName': (('DNS', 'jelly.tinfoil-hat.de'),), 'OCSP': ('http://r3.o.lencr.org',), 'caIssuers': ('http://r3.i.lencr.org/',)}\n"
     ]
    },
    {
     "name": "stderr",
     "output_type": "stream",
     "text": [
      "Testing instances: 100%|███████████████████████████████████████████████████████████████| 77/77 [03:45<00:00,  2.93s/it]"
     ]
    },
    {
     "name": "stdout",
     "output_type": "stream",
     "text": [
      "30-Apr-24 17:51:07 - No instance specified, using random instance https://nitter.esmailelbob.xyz\n"
     ]
    },
    {
     "name": "stderr",
     "output_type": "stream",
     "text": [
      "\n"
     ]
    },
    {
     "name": "stdout",
     "output_type": "stream",
     "text": [
      "30-Apr-24 17:51:15 - Current stats for hubermanlab: 15 tweets, 0 threads...\n"
     ]
    }
   ],
   "source": [
    "create_tweet_dataset('hubermanlab', 15)"
   ]
  },
  {
   "cell_type": "code",
   "execution_count": null,
   "id": "cbbf78a7",
   "metadata": {},
   "outputs": [],
   "source": []
  },
  {
   "cell_type": "code",
   "execution_count": null,
   "id": "95519fd6",
   "metadata": {},
   "outputs": [],
   "source": []
  },
  {
   "cell_type": "code",
   "execution_count": null,
   "id": "ab3bfeb9",
   "metadata": {},
   "outputs": [],
   "source": []
  }
 ],
 "metadata": {
  "kernelspec": {
   "display_name": "Python 3 (ipykernel)",
   "language": "python",
   "name": "python3"
  },
  "language_info": {
   "codemirror_mode": {
    "name": "ipython",
    "version": 3
   },
   "file_extension": ".py",
   "mimetype": "text/x-python",
   "name": "python",
   "nbconvert_exporter": "python",
   "pygments_lexer": "ipython3",
   "version": "3.9.7"
  }
 },
 "nbformat": 4,
 "nbformat_minor": 5
}
